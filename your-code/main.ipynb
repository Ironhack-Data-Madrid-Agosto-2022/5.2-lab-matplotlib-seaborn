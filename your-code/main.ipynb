{
 "cells": [
  {
   "cell_type": "markdown",
   "metadata": {},
   "source": [
    "# Lab | Matplotlib & Seaborn\n",
    "\n",
    "#### Import all the necessary libraries here:"
   ]
  },
  {
   "cell_type": "code",
   "execution_count": 1,
   "metadata": {},
   "outputs": [],
   "source": [
    "# Libraries\n",
    "import numpy as np\n",
    "import pandas as pd\n",
    "\n",
    "import matplotlib.pyplot as plt\n",
    "import seaborn as sns\n",
    "%matplotlib inline\n",
    "\n",
    "import warnings\n",
    "warnings.filterwarnings('ignore')\n",
    "\n",
    "pd.set_option('display.max_columns', None)"
   ]
  },
  {
   "cell_type": "markdown",
   "metadata": {},
   "source": [
    "## Challenge \n",
    "#### Import the `Fitbit2` dataset and store it in a variable called `fitbit`. You can find the dataset in Ironhack's database:\n",
    "* db: `fitbit`\n",
    "* table: `fitbit2`"
   ]
  },
  {
   "cell_type": "code",
   "execution_count": 3,
   "metadata": {},
   "outputs": [],
   "source": [
    "fitbit=pd.read_csv('../data/fitbit2.csv', encoding = 'latin1')"
   ]
  },
  {
   "cell_type": "markdown",
   "metadata": {},
   "source": [
    "#### From the Fitbit data, we want to visually understand:\n",
    "\n",
    "How the average number of steps change by month. Use the appropriate visualization to show the median steps by month. Is Fitbitter more active on weekend or workdays?\n",
    "**Hints**:\n",
    "\n",
    "* Use Months_encoded and Week_or Weekend columns.\n",
    "* Use matplolib.pyplot object oriented API.\n",
    "* Set your size figure to 12,4\n",
    "* Explore plt.sca\n",
    "* Explore plt.xticks\n",
    "* Save your figures in a folder called `figures` in your repo. "
   ]
  },
  {
   "cell_type": "code",
   "execution_count": 7,
   "metadata": {},
   "outputs": [],
   "source": [
    "# AVERAGE STEPS BY MONTH_ENCODED\n",
    "fitbit.groupby('Months_encoded').median().Steps"
   ]
  },
  {
   "cell_type": "code",
   "execution_count": 11,
   "metadata": {},
   "outputs": [],
   "source": [
    "steps_months=fitbit.groupby('Months_encoded').median().Steps.plot(\n",
    "        \n",
    "        kind='bar',\n",
    "        color=['g'],\n",
    "        grid=True,\n",
    "        figsize=(12, 4),\n",
    "        title='steps_months')\n",
    "\n",
    "ax.set_xlabel('months_encoded')\n",
    "ax.set_ylabel('# median')\n",
    "\n",
    "plt.savefig('./figures/steps_months.jpg')\n",
    "plt.show();"
   ]
  },
  {
   "cell_type": "code",
   "execution_count": 12,
   "metadata": {},
   "outputs": [],
   "source": [
    "# AVERAGE STEPS BY WORK_OR_WEEKEND\n",
    "fitbit.groupby('Work_or_Weekend').median().Steps"
   ]
  },
  {
   "cell_type": "code",
   "execution_count": 14,
   "metadata": {},
   "outputs": [],
   "source": [
    "steps_week=fitbit.groupby('Work_or_Weekend').median().Steps.plot(\n",
    "        \n",
    "        kind='bar',\n",
    "        color=['g'],\n",
    "        grid=True,\n",
    "        figsize=(12, 4),\n",
    "        title='steps_work_or_weekend')\n",
    "\n",
    "ax.set_xlabel('Work_or_Weekend')\n",
    "ax.set_ylabel('# median')\n",
    "\n",
    "plt.savefig('./figures/steps_work_or_weekend.jpg')\n",
    "plt.show();"
   ]
  },
  {
   "cell_type": "markdown",
   "metadata": {},
   "source": [
    "#### Write a loop to plot 3 scatter plots of the following features:\n",
    "\n",
    "* Minutes Lightly Active vs Steps    \n",
    "* Minutes Very Active vs Steps    \n",
    "* Minutes Sedentary vs Steps  "
   ]
  },
  {
   "cell_type": "code",
   "execution_count": 16,
   "metadata": {},
   "outputs": [],
   "source": [
    "import seaborn as sns\n",
    "\n",
    "activities=['Minutes Lightly Active','Minutes Very Active','Minutes Sedentary']\n",
    "\n",
    "for activity in activities:\n",
    "\n",
    "    sns.scatterplot(data=fitbit, x='Steps', y=activity)\n",
    "    "
   ]
  },
  {
   "cell_type": "markdown",
   "metadata": {},
   "source": [
    "## Challenge \n",
    "\n",
    "#### Import the `titanic` dataset and store it in a variable called `titanic`. You can find the dataset in Ironhack's database:\n",
    "* db: `titanic`\n",
    "* table: `titanic`"
   ]
  },
  {
   "cell_type": "code",
   "execution_count": 18,
   "metadata": {
    "scrolled": true
   },
   "outputs": [],
   "source": [
    "titanic=pd.read_csv('../data/titanic.csv', encoding = 'latin1')"
   ]
  },
  {
   "cell_type": "markdown",
   "metadata": {},
   "source": [
    "#### Explore the titanic dataset using Pandas dtypes."
   ]
  },
  {
   "cell_type": "code",
   "execution_count": 20,
   "metadata": {},
   "outputs": [],
   "source": [
    "titanic.dtypes"
   ]
  },
  {
   "cell_type": "markdown",
   "metadata": {},
   "source": [
    "#### What are your numerical variables? What are your categorical variables?\n",
    "**Hint**: Use Pandas select_dtypes."
   ]
  },
  {
   "cell_type": "code",
   "execution_count": 23,
   "metadata": {},
   "outputs": [],
   "source": [
    "# NUMERICAL VARIABLES\n",
    "titanic.select_dtypes(include=np.number)"
   ]
  },
  {
   "cell_type": "code",
   "execution_count": 25,
   "metadata": {},
   "outputs": [],
   "source": [
    "# CATEGORICAL VARIABLES\n",
    "titanic.select_dtypes(include='object')"
   ]
  },
  {
   "cell_type": "markdown",
   "metadata": {},
   "source": [
    "#### Set the plot style to classic and the figure size to (12,6).\n",
    "**Hint**: To set the style you can use matplotlib or seaborn functions. Do some research on the matter."
   ]
  },
  {
   "cell_type": "code",
   "execution_count": 26,
   "metadata": {},
   "outputs": [],
   "source": [
    "import matplotlib as mp\n",
    "mp.style.use('classic')\n",
    "mp.figsize=(12, 6)"
   ]
  },
  {
   "cell_type": "markdown",
   "metadata": {},
   "source": [
    "#### Use the right visulalization to show the distribution of column `Age`."
   ]
  },
  {
   "cell_type": "code",
   "execution_count": 28,
   "metadata": {},
   "outputs": [],
   "source": [
    "titanic['Age'].plot.hist();"
   ]
  },
  {
   "cell_type": "markdown",
   "metadata": {},
   "source": [
    "#### Use subplots and plot the distribution of the `Age`  with bins equal to 10, 20 and 50."
   ]
  },
  {
   "cell_type": "code",
   "execution_count": 30,
   "metadata": {},
   "outputs": [],
   "source": [
    "fig, axes = plt.subplots(1,3, figsize=(12, 6), sharey=True)\n",
    "fig.suptitle('Age variable with different bin numbers')\n",
    "\n",
    "lista_bins=[10,20,50]\n",
    "\n",
    "for i,e in enumerate(lista_bins):\n",
    "    \n",
    "    sns.histplot(ax=axes[i], data=titanic['Age'], bins=e);"
   ]
  },
  {
   "cell_type": "markdown",
   "metadata": {},
   "source": [
    "#### How does the bin size affect your plot?"
   ]
  },
  {
   "cell_type": "code",
   "execution_count": null,
   "metadata": {},
   "outputs": [],
   "source": [
    "\"\"\"\n",
    "Cuanto menor es el numero de bins, mayor cantidad de gente\n",
    "\"\"\""
   ]
  },
  {
   "cell_type": "markdown",
   "metadata": {},
   "source": [
    "#### Use seaborn to show the distribution of column `Age`."
   ]
  },
  {
   "cell_type": "code",
   "execution_count": 32,
   "metadata": {},
   "outputs": [],
   "source": [
    "sns.histplot(x=titanic['Age']);"
   ]
  },
  {
   "cell_type": "markdown",
   "metadata": {},
   "source": [
    "#### Use the right plot to visualize column `Gender`. There are 2 ways of doing it. Do it both ways.\n",
    "**Hint**: Use matplotlib and seaborn."
   ]
  },
  {
   "cell_type": "code",
   "execution_count": 34,
   "metadata": {},
   "outputs": [],
   "source": [
    "# Method 1 - matplotlib\n",
    "plt.hist(titanic['Gender'], bins=2);"
   ]
  },
  {
   "cell_type": "code",
   "execution_count": 36,
   "metadata": {},
   "outputs": [],
   "source": [
    "# Method 2 - seaborn\n",
    "sns.histplot(x=titanic['Gender']);"
   ]
  },
  {
   "cell_type": "markdown",
   "metadata": {},
   "source": [
    "#### Use the right plot to visualize the column `Pclass`."
   ]
  },
  {
   "cell_type": "code",
   "execution_count": 38,
   "metadata": {},
   "outputs": [],
   "source": [
    "sns.countplot(x=titanic.Pclass, palette='Blues');"
   ]
  },
  {
   "cell_type": "markdown",
   "metadata": {},
   "source": [
    "#### We would like to have in one single plot the summary statistics of the feature `Age`. What kind of plot would you use? Plot it. "
   ]
  },
  {
   "cell_type": "code",
   "execution_count": 40,
   "metadata": {},
   "outputs": [],
   "source": [
    "sns.boxplot(data=titanic.Age);"
   ]
  },
  {
   "cell_type": "code",
   "execution_count": null,
   "metadata": {},
   "outputs": [],
   "source": [
    "\"\"\"\n",
    "Con el boxplot podemos ver la medina, outliers, IQR, Q...\n",
    "\"\"\""
   ]
  },
  {
   "cell_type": "markdown",
   "metadata": {},
   "source": [
    "#### What does the last plot tell you about the feature `Age`?"
   ]
  },
  {
   "cell_type": "code",
   "execution_count": null,
   "metadata": {},
   "outputs": [],
   "source": [
    "\"\"\"\n",
    "Que la mayor parte pertenecen al rango entro 20 y 40. \n",
    "\"\"\""
   ]
  },
  {
   "cell_type": "markdown",
   "metadata": {},
   "source": [
    "#### Now in addition to the summary statistics, we want to have in the same plot the distribution of `Age`. What kind of plot would you use? Plot it. "
   ]
  },
  {
   "cell_type": "code",
   "execution_count": 42,
   "metadata": {},
   "outputs": [],
   "source": [
    "sns.boxplot(data=titanic.Age, color='Green')\n",
    "sns.stripplot(data=titanic.Age, color='Yellow');"
   ]
  },
  {
   "cell_type": "markdown",
   "metadata": {},
   "source": [
    "#### What additional information does the last plot provide about feature `Age`?"
   ]
  },
  {
   "cell_type": "code",
   "execution_count": null,
   "metadata": {},
   "outputs": [],
   "source": [
    "\"\"\"\n",
    "Indica como estan distribuidos los datos\n",
    "\"\"\""
   ]
  },
  {
   "cell_type": "markdown",
   "metadata": {},
   "source": [
    "#### We suspect that there is a linear relationship between `Fare` and `Age`. Use the right plot to show the relationship between these 2 features. There are 2 ways, please do it both ways.\n",
    "**Hint**: Use matplotlib and seaborn."
   ]
  },
  {
   "cell_type": "code",
   "execution_count": 44,
   "metadata": {},
   "outputs": [],
   "source": [
    "# Method 1 - matplotlib\n",
    "titanic.plot.scatter(x='Fare', y='Age');"
   ]
  },
  {
   "cell_type": "code",
   "execution_count": 46,
   "metadata": {},
   "outputs": [],
   "source": [
    "# Method 2 - seaborn\n",
    "sns.scatterplot(data=titanic, x='Fare', y='Age');"
   ]
  },
  {
   "cell_type": "markdown",
   "metadata": {},
   "source": [
    "#### Plot the correlation matrix using seaborn."
   ]
  },
  {
   "cell_type": "code",
   "execution_count": 47,
   "metadata": {},
   "outputs": [
    {
     "data": {
      "text/html": [
       "<div>\n",
       "<style scoped>\n",
       "    .dataframe tbody tr th:only-of-type {\n",
       "        vertical-align: middle;\n",
       "    }\n",
       "\n",
       "    .dataframe tbody tr th {\n",
       "        vertical-align: top;\n",
       "    }\n",
       "\n",
       "    .dataframe thead th {\n",
       "        text-align: right;\n",
       "    }\n",
       "</style>\n",
       "<table border=\"1\" class=\"dataframe\">\n",
       "  <thead>\n",
       "    <tr style=\"text-align: right;\">\n",
       "      <th></th>\n",
       "      <th>PassengerId</th>\n",
       "      <th>Survived</th>\n",
       "      <th>Pclass</th>\n",
       "      <th>Age</th>\n",
       "      <th>SibSp</th>\n",
       "      <th>Parch</th>\n",
       "      <th>Fare</th>\n",
       "    </tr>\n",
       "  </thead>\n",
       "  <tbody>\n",
       "    <tr>\n",
       "      <th>PassengerId</th>\n",
       "      <td>1.000000</td>\n",
       "      <td>-0.005007</td>\n",
       "      <td>-0.038354</td>\n",
       "      <td>0.025325</td>\n",
       "      <td>-0.055224</td>\n",
       "      <td>0.008942</td>\n",
       "      <td>0.031128</td>\n",
       "    </tr>\n",
       "    <tr>\n",
       "      <th>Survived</th>\n",
       "      <td>-0.005007</td>\n",
       "      <td>1.000000</td>\n",
       "      <td>-0.338481</td>\n",
       "      <td>-0.065376</td>\n",
       "      <td>-0.035322</td>\n",
       "      <td>0.081629</td>\n",
       "      <td>0.257307</td>\n",
       "    </tr>\n",
       "    <tr>\n",
       "      <th>Pclass</th>\n",
       "      <td>-0.038354</td>\n",
       "      <td>-0.338481</td>\n",
       "      <td>1.000000</td>\n",
       "      <td>-0.425965</td>\n",
       "      <td>0.060832</td>\n",
       "      <td>0.018322</td>\n",
       "      <td>-0.558683</td>\n",
       "    </tr>\n",
       "    <tr>\n",
       "      <th>Age</th>\n",
       "      <td>0.025325</td>\n",
       "      <td>-0.065376</td>\n",
       "      <td>-0.425965</td>\n",
       "      <td>1.000000</td>\n",
       "      <td>-0.260706</td>\n",
       "      <td>-0.145488</td>\n",
       "      <td>0.171355</td>\n",
       "    </tr>\n",
       "    <tr>\n",
       "      <th>SibSp</th>\n",
       "      <td>-0.055224</td>\n",
       "      <td>-0.035322</td>\n",
       "      <td>0.060832</td>\n",
       "      <td>-0.260706</td>\n",
       "      <td>1.000000</td>\n",
       "      <td>0.373587</td>\n",
       "      <td>0.160349</td>\n",
       "    </tr>\n",
       "    <tr>\n",
       "      <th>Parch</th>\n",
       "      <td>0.008942</td>\n",
       "      <td>0.081629</td>\n",
       "      <td>0.018322</td>\n",
       "      <td>-0.145488</td>\n",
       "      <td>0.373587</td>\n",
       "      <td>1.000000</td>\n",
       "      <td>0.221635</td>\n",
       "    </tr>\n",
       "    <tr>\n",
       "      <th>Fare</th>\n",
       "      <td>0.031128</td>\n",
       "      <td>0.257307</td>\n",
       "      <td>-0.558683</td>\n",
       "      <td>0.171355</td>\n",
       "      <td>0.160349</td>\n",
       "      <td>0.221635</td>\n",
       "      <td>1.000000</td>\n",
       "    </tr>\n",
       "  </tbody>\n",
       "</table>\n",
       "</div>"
      ],
      "text/plain": [
       "             PassengerId  Survived    Pclass       Age     SibSp     Parch  \\\n",
       "PassengerId     1.000000 -0.005007 -0.038354  0.025325 -0.055224  0.008942   \n",
       "Survived       -0.005007  1.000000 -0.338481 -0.065376 -0.035322  0.081629   \n",
       "Pclass         -0.038354 -0.338481  1.000000 -0.425965  0.060832  0.018322   \n",
       "Age             0.025325 -0.065376 -0.425965  1.000000 -0.260706 -0.145488   \n",
       "SibSp          -0.055224 -0.035322  0.060832 -0.260706  1.000000  0.373587   \n",
       "Parch           0.008942  0.081629  0.018322 -0.145488  0.373587  1.000000   \n",
       "Fare            0.031128  0.257307 -0.558683  0.171355  0.160349  0.221635   \n",
       "\n",
       "                 Fare  \n",
       "PassengerId  0.031128  \n",
       "Survived     0.257307  \n",
       "Pclass      -0.558683  \n",
       "Age          0.171355  \n",
       "SibSp        0.160349  \n",
       "Parch        0.221635  \n",
       "Fare         1.000000  "
      ]
     },
     "execution_count": 47,
     "metadata": {},
     "output_type": "execute_result"
    }
   ],
   "source": [
    "corr=titanic.corr(method='pearson')\n",
    "corr"
   ]
  },
  {
   "cell_type": "code",
   "execution_count": 52,
   "metadata": {},
   "outputs": [],
   "source": [
    "sns.set(style='white')    \n",
    "\n",
    "\n",
    "mascara=np.triu(np.ones_like(corr, dtype=bool))   \n",
    "\n",
    "\n",
    "cmap=sns.diverging_palette(0, 10, as_cmap=True)   \n",
    "\n",
    "\n",
    "sns.heatmap(corr,\n",
    "            mask=mascara,\n",
    "            cmap=cmap,\n",
    "            vmax=1,\n",
    "            center=0,\n",
    "            square=True,\n",
    "            linewidth=0.5,\n",
    "            cbar_kws={'shrink': 0.5},\n",
    "            annot=True);"
   ]
  },
  {
   "cell_type": "markdown",
   "metadata": {},
   "source": [
    "#### What are the most correlated features?"
   ]
  },
  {
   "cell_type": "code",
   "execution_count": null,
   "metadata": {},
   "outputs": [],
   "source": [
    "\"\"\"\n",
    "La mayor correlacion es Pclass y Fare\n",
    "\"\"\""
   ]
  },
  {
   "cell_type": "markdown",
   "metadata": {},
   "source": [
    "#### Use the most appropriate plot to display the summary statistics of `Age` depending on `Pclass`."
   ]
  },
  {
   "cell_type": "code",
   "execution_count": null,
   "metadata": {
    "scrolled": true
   },
   "outputs": [],
   "source": []
  },
  {
   "cell_type": "markdown",
   "metadata": {},
   "source": [
    "#### Use seaborn to plot the distribution of `Age` based on the `Gender`.\n",
    "**Hint**: Use Facetgrid."
   ]
  },
  {
   "cell_type": "code",
   "execution_count": null,
   "metadata": {},
   "outputs": [],
   "source": []
  }
 ],
 "metadata": {
  "anaconda-cloud": {},
  "kernelspec": {
   "display_name": "Python 3 (ipykernel)",
   "language": "python",
   "name": "python3"
  },
  "language_info": {
   "codemirror_mode": {
    "name": "ipython",
    "version": 3
   },
   "file_extension": ".py",
   "mimetype": "text/x-python",
   "name": "python",
   "nbconvert_exporter": "python",
   "pygments_lexer": "ipython3",
   "version": "3.9.12"
  },
  "toc": {
   "base_numbering": 1,
   "nav_menu": {},
   "number_sections": true,
   "sideBar": true,
   "skip_h1_title": true,
   "title_cell": "Table of Contents",
   "title_sidebar": "Contents",
   "toc_cell": false,
   "toc_position": {},
   "toc_section_display": true,
   "toc_window_display": false
  }
 },
 "nbformat": 4,
 "nbformat_minor": 1
}
